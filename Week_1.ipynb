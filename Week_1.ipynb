{
  "nbformat": 4,
  "nbformat_minor": 0,
  "metadata": {
    "colab": {
      "name": "Week 1.ipynb",
      "provenance": []
    },
    "kernelspec": {
      "name": "python3",
      "display_name": "Python 3"
    }
  },
  "cells": [
    {
      "cell_type": "markdown",
      "metadata": {
        "id": "b5co6T3sksGf",
        "colab_type": "text"
      },
      "source": [
        "This notebook will be mainly used for the IBM's Applied Data Science Capstone Project"
      ]
    },
    {
      "cell_type": "markdown",
      "metadata": {
        "id": "gg0NethqkwpM",
        "colab_type": "text"
      },
      "source": [
        "@author Risdatamam"
      ]
    },
    {
      "cell_type": "code",
      "metadata": {
        "id": "5UfOCCPxkkst",
        "colab_type": "code",
        "colab": {}
      },
      "source": [
        "import pandas as pd\n",
        "import numpy  as np"
      ],
      "execution_count": 0,
      "outputs": []
    },
    {
      "cell_type": "code",
      "metadata": {
        "id": "5abxv6_Fkqag",
        "colab_type": "code",
        "colab": {
          "base_uri": "https://localhost:8080/",
          "height": 35
        },
        "outputId": "c4c42d9a-8cfd-4ced-fdf5-fb1c86f0258e"
      },
      "source": [
        "print(\"Hello Capstone Project Course!\")"
      ],
      "execution_count": 2,
      "outputs": [
        {
          "output_type": "stream",
          "text": [
            "Hello Capstone Project Course!\n"
          ],
          "name": "stdout"
        }
      ]
    }
  ]
}